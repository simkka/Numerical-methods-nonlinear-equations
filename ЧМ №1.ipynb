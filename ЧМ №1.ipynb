{
 "cells": [
  {
   "cell_type": "markdown",
   "id": "7d8a98ba",
   "metadata": {},
   "source": [
    "# Розв'язання рівнянь"
   ]
  },
  {
   "cell_type": "markdown",
   "id": "cb612ad6",
   "metadata": {},
   "source": [
    "# Рівняння №1  -29x^7+121x^6+363x^5-783x^4-924x^3+728x^2+386^x+5"
   ]
  },
  {
   "cell_type": "code",
   "execution_count": 22,
   "id": "18ec1b42",
   "metadata": {},
   "outputs": [],
   "source": [
    "from sympy import*"
   ]
  },
  {
   "cell_type": "code",
   "execution_count": 34,
   "id": "05654293",
   "metadata": {},
   "outputs": [],
   "source": [
    "x=symbols('x')"
   ]
  },
  {
   "cell_type": "code",
   "execution_count": 39,
   "id": "c5f23632",
   "metadata": {},
   "outputs": [
    {
     "data": {
      "text/plain": [
       "[-2.533341006,\n",
       " -1.273904694,\n",
       " -0.3923996205,\n",
       " -0.01329214849,\n",
       " 0.9144655608,\n",
       " 2.076316301,\n",
       " 5.394569400]"
      ]
     },
     "execution_count": 39,
     "metadata": {},
     "output_type": "execute_result"
    }
   ],
   "source": [
    "nroots(-29*x**7+121*x**6+363*x**5-783*x**4-924*x**3+728*x**2+386*x+5, 10)"
   ]
  },
  {
   "cell_type": "code",
   "execution_count": 41,
   "id": "87590c73",
   "metadata": {},
   "outputs": [],
   "source": [
    "import numpy as np\n",
    "import matplotlib.pyplot as plt\n",
    "from scipy.optimize import fsolve"
   ]
  },
  {
   "cell_type": "code",
   "execution_count": 60,
   "id": "26ef178e",
   "metadata": {},
   "outputs": [],
   "source": [
    "def eq(x):\n",
    "    return (-29*x**7+121*x**6+363*x**5-783*x**4-924*x**3+728*x**2+386*x+5)\n"
   ]
  },
  {
   "cell_type": "code",
   "execution_count": 67,
   "id": "cf80f808",
   "metadata": {},
   "outputs": [
    {
     "data": {
      "image/png": "[encoded data removed]",
      "text/plain": [
       "<Figure size 432x288 with 1 Axes>"
      ]
     },
     "metadata": {
      "needs_background": "light"
     },
     "output_type": "display_data"
    }
   ],
   "source": [
    "t=np.linspace(-3,6,100)\n",
    "plt.plot(t,eq(t))\n",
    "plt.grid()\n"
   ]
  },
  {
   "cell_type": "code",
   "execution_count": 79,
   "id": "31149468",
   "metadata": {},
   "outputs": [
    {
     "name": "stdout",
     "output_type": "stream",
     "text": [
      "[-2.53334101]\n",
      "[1.36424205e-12]\n"
     ]
    }
   ],
   "source": [
    "x=fsolve(eq,-3)\n",
    "print(x)\n",
    "print(eq(x))\n"
   ]
  },
  {
   "cell_type": "code",
   "execution_count": 80,
   "id": "8f7cd88d",
   "metadata": {},
   "outputs": [
    {
     "name": "stdout",
     "output_type": "stream",
     "text": [
      "[-1.27390469]\n",
      "[-2.40447662e-11]\n"
     ]
    }
   ],
   "source": [
    "x=fsolve(eq,-2)\n",
    "print(x)\n",
    "print(eq(x))"
   ]
  },
  {
   "cell_type": "code",
   "execution_count": 81,
   "id": "aac12b58",
   "metadata": {},
   "outputs": [
    {
     "name": "stdout",
     "output_type": "stream",
     "text": [
      "[-0.39239962]\n",
      "[5.68434189e-14]\n"
     ]
    }
   ],
   "source": [
    "x=fsolve(eq,-0.5)\n",
    "print(x)\n",
    "print(eq(x))"
   ]
  },
  {
   "cell_type": "code",
   "execution_count": 82,
   "id": "cdcfd357",
   "metadata": {},
   "outputs": [
    {
     "name": "stdout",
     "output_type": "stream",
     "text": [
      "[-0.01329215]\n",
      "[0.]\n"
     ]
    }
   ],
   "source": [
    "x=fsolve(eq,-0)\n",
    "print(x)\n",
    "print(eq(x))"
   ]
  },
  {
   "cell_type": "code",
   "execution_count": 83,
   "id": "8ea1f377",
   "metadata": {},
   "outputs": [
    {
     "name": "stdout",
     "output_type": "stream",
     "text": [
      "[0.91446556]\n",
      "[1.13686838e-13]\n"
     ]
    }
   ],
   "source": [
    "x=fsolve(eq,1)\n",
    "print(x)\n",
    "print(eq(x))"
   ]
  },
  {
   "cell_type": "code",
   "execution_count": 84,
   "id": "f2b4ab0c",
   "metadata": {},
   "outputs": [
    {
     "name": "stdout",
     "output_type": "stream",
     "text": [
      "[2.0763163]\n",
      "[-2.61479727e-12]\n"
     ]
    }
   ],
   "source": [
    "x=fsolve(eq,2)\n",
    "print(x)\n",
    "print(eq(x))"
   ]
  },
  {
   "cell_type": "code",
   "execution_count": 85,
   "id": "205050a5",
   "metadata": {},
   "outputs": [
    {
     "name": "stdout",
     "output_type": "stream",
     "text": [
      "[5.3945694]\n",
      "[5.29780664e-10]\n"
     ]
    }
   ],
   "source": [
    "x=fsolve(eq,5)\n",
    "print(x)\n",
    "print(eq(x))"
   ]
  },
  {
   "cell_type": "markdown",
   "id": "81cdd36c",
   "metadata": {},
   "source": [
    "# Рівняння №2   x^2+4sinx"
   ]
  },
  {
   "cell_type": "code",
   "execution_count": 87,
   "id": "1f51db6d",
   "metadata": {},
   "outputs": [],
   "source": [
    "def eq(x):\n",
    "    return (x**2+4*np.sin(x))\n"
   ]
  },
  {
   "cell_type": "code",
   "execution_count": 88,
   "id": "900cfe2e",
   "metadata": {},
   "outputs": [
    {
     "data": {
      "image/png": "[encoded data removed]",
      "text/plain": [
       "<Figure size 432x288 with 1 Axes>"
      ]
     },
     "metadata": {
      "needs_background": "light"
     },
     "output_type": "display_data"
    }
   ],
   "source": [
    "t=np.linspace(-3,6,100)\n",
    "plt.plot(t,eq(t))\n",
    "plt.grid()"
   ]
  },
  {
   "cell_type": "code",
   "execution_count": 89,
   "id": "5abccbdf",
   "metadata": {},
   "outputs": [
    {
     "name": "stdout",
     "output_type": "stream",
     "text": [
      "[-1.93375376]\n",
      "[-4.4408921e-16]\n"
     ]
    }
   ],
   "source": [
    "x=fsolve(eq,-2)\n",
    "print(x)\n",
    "print(eq(x))"
   ]
  },
  {
   "cell_type": "code",
   "execution_count": 90,
   "id": "3b3ffb31",
   "metadata": {},
   "outputs": [
    {
     "name": "stdout",
     "output_type": "stream",
     "text": [
      "[0.]\n",
      "[0.]\n"
     ]
    }
   ],
   "source": [
    "x=fsolve(eq,1)\n",
    "print(x)\n",
    "print(eq(x))"
   ]
  },
  {
   "cell_type": "code",
   "execution_count": null,
   "id": "2072c90c",
   "metadata": {},
   "outputs": [],
   "source": []
  }
 ],
 "metadata": {
  "kernelspec": {
   "display_name": "Python 3 (ipykernel)",
   "language": "python",
   "name": "python3"
  },
  "language_info": {
   "codemirror_mode": {
    "name": "ipython",
    "version": 3
   },
   "file_extension": ".py",
   "mimetype": "text/x-python",
   "name": "python",
   "nbconvert_exporter": "python",
   "pygments_lexer": "ipython3",
   "version": "3.9.7"
  }
 },
 "nbformat": 4,
 "nbformat_minor": 5
}
